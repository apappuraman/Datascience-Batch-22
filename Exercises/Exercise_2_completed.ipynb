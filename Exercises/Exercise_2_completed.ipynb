{
  "cells": [
    {
      "cell_type": "markdown",
      "metadata": {
        "id": "eCJE7GBVvSBA"
      },
      "source": [
        "### The questions for the exercises are given above the cells and the expected output is given below the cell. Please type the code inserting a new cell below the question because if you run the expected output cell the output would vanish! Happy learning!"
      ]
    },
    {
      "cell_type": "markdown",
      "metadata": {
        "id": "uiWCNFRmvSBC"
      },
      "source": [
        "## 1. Write a Python program to count the number of even and odd numbers from a series of numbers."
      ]
    },
    {
      "cell_type": "code",
      "execution_count": 1,
      "metadata": {
        "colab": {
          "base_uri": "https://localhost:8080/"
        },
        "id": "TAjHo-2LvSBC",
        "outputId": "4f3f27ac-15aa-44fd-a6ca-2d0687ba90e2"
      },
      "outputs": [
        {
          "output_type": "stream",
          "name": "stdout",
          "text": [
            "Number of even numbers : 5\n",
            "Number of odd numbers : 5\n"
          ]
        }
      ],
      "source": [
        "eCount=0\n",
        "oCount=0\n",
        "for i in range(10):\n",
        "  if i%2==0:\n",
        "    eCount=eCount+1\n",
        "  else:\n",
        "    oCount=oCount+1\n",
        "\n",
        "print(\"Number of even numbers :\", eCount)\n",
        "print(\"Number of odd numbers :\", oCount)"
      ]
    },
    {
      "cell_type": "markdown",
      "metadata": {
        "id": "n1GknTTjvSBD"
      },
      "source": [
        "## 2. Write a Python program to find numbers between 100 and 400 (both included) where each digit of a number is an even number. The numbers obtained should be printed in a comma-separated sequence."
      ]
    },
    {
      "cell_type": "code",
      "execution_count": null,
      "metadata": {
        "id": "Qjg220JJvSBD",
        "outputId": "55c31394-6e39-433c-af69-460b2c363606"
      },
      "outputs": [
        {
          "name": "stdout",
          "output_type": "stream",
          "text": [
            "200,202,204,206,208,220,222,224,226,228,240,242,244,246,248,260,262,264,266,268,280,282,284,286,288,400\n"
          ]
        }
      ],
      "source": []
    },
    {
      "cell_type": "code",
      "source": [
        "def isEvenDigits(n):\n",
        "  if n<=0:\n",
        "    return False\n",
        "  while n>0:\n",
        "    d=n%10\n",
        "    if d%2!=0:\n",
        "      return False\n",
        "    n=int(n/10)\n",
        "  return True\n",
        "\n",
        "for i in range(100,401):\n",
        "  if isEvenDigits(i):\n",
        "    print(i, end=\",\")\n",
        "\n"
      ],
      "metadata": {
        "colab": {
          "base_uri": "https://localhost:8080/"
        },
        "id": "lif2rYi3wOwa",
        "outputId": "940068a5-71ba-4506-afd7-d023a95b4c2c"
      },
      "execution_count": 22,
      "outputs": [
        {
          "output_type": "stream",
          "name": "stdout",
          "text": [
            "200,202,204,206,208,220,222,224,226,228,240,242,244,246,248,260,262,264,266,268,280,282,284,286,288,400,"
          ]
        }
      ]
    },
    {
      "cell_type": "markdown",
      "metadata": {
        "id": "fhKDE-J9vSBE"
      },
      "source": [
        "## 3. Write a Python program to calculate a dog's age in dog's years. Go to the editor\n",
        "Note: For the first two years, a dog year is equal to 10.5 human years. After that, each dog year equals 4 human years."
      ]
    },
    {
      "cell_type": "code",
      "execution_count": null,
      "metadata": {
        "id": "vRPRSHEWvSBE",
        "outputId": "571eb58a-8fe0-4761-b324-9fd4c4efd2f6"
      },
      "outputs": [
        {
          "name": "stdout",
          "output_type": "stream",
          "text": [
            "Input a dog's age in human years: 20\n",
            "The dog's age in dog's years is 93\n"
          ]
        }
      ],
      "source": []
    },
    {
      "cell_type": "code",
      "source": [
        "dAge=int(input(\"Input a dog's age in human years: \"))\n",
        "res=0\n",
        "#calcualte for first 2 years\n",
        "if dAge<=2:\n",
        "  res=dAge*10.5\n",
        "\n",
        "#calcualte for remaining years\n",
        "elif dAge>2:\n",
        "  res=2*10.5\n",
        "  res=res+(dAge-2)*4\n",
        "\n",
        "print(\"The dog's age in dog's years is \", res)\n",
        "\n",
        "\n"
      ],
      "metadata": {
        "colab": {
          "base_uri": "https://localhost:8080/"
        },
        "id": "qsxRonqX0vjm",
        "outputId": "989db0da-ab3c-4765-cf84-d4637599b847"
      },
      "execution_count": 27,
      "outputs": [
        {
          "output_type": "stream",
          "name": "stdout",
          "text": [
            "Input a dog's age in human years: 20\n",
            "The dog's age in dog's years is  93.0\n"
          ]
        }
      ]
    },
    {
      "cell_type": "markdown",
      "metadata": {
        "id": "MVH4tq6avSBE"
      },
      "source": [
        "## 4. Write a Python function to find the Max of three numbers."
      ]
    },
    {
      "cell_type": "code",
      "execution_count": null,
      "metadata": {
        "id": "rCbqE4YjvSBE",
        "outputId": "b78bc193-75ca-4b57-c193-c6447debe6c5"
      },
      "outputs": [
        {
          "name": "stdout",
          "output_type": "stream",
          "text": [
            "The Three numbers are: (3, 6, -5)\n",
            "6\n"
          ]
        }
      ],
      "source": []
    },
    {
      "cell_type": "code",
      "source": [
        "def findMax2(a,b):\n",
        "  if a>b:\n",
        "    return a\n",
        "  else:\n",
        "    return b\n",
        "\n",
        "def findMax3(a,b,c):\n",
        "  return findMax2(a, findMax2(b,c))\n",
        "\n",
        "a,b,c=(3, 6, -5)\n",
        "print(findMax3(a,b,c))\n",
        "\n"
      ],
      "metadata": {
        "colab": {
          "base_uri": "https://localhost:8080/"
        },
        "id": "vw_JgOez3jhC",
        "outputId": "43a21f3f-7f46-42a1-f2f6-c58f76e3c1f6"
      },
      "execution_count": 29,
      "outputs": [
        {
          "output_type": "stream",
          "name": "stdout",
          "text": [
            "6\n"
          ]
        }
      ]
    },
    {
      "cell_type": "markdown",
      "metadata": {
        "id": "60uDYapbvSBE"
      },
      "source": [
        "## 5. Write a Python function that takes a number as a parameter and check the number is prime or not."
      ]
    },
    {
      "cell_type": "code",
      "execution_count": null,
      "metadata": {
        "id": "9-LqK2sgvSBE",
        "outputId": "4a832935-f5ec-4bae-b1d5-9a09a1231d48"
      },
      "outputs": [
        {
          "name": "stdout",
          "output_type": "stream",
          "text": [
            "The number is: 9\n",
            "False\n"
          ]
        }
      ],
      "source": []
    },
    {
      "cell_type": "code",
      "source": [
        "def isPrime(n):\n",
        "  if n<2:\n",
        "    return False\n",
        "  for i in range(1,n+1):\n",
        "    if n%i != 0:\n",
        "      return False\n",
        "  return True\n",
        "\n",
        "n=int(input(\"The number is: \"))\n",
        "print(isPrime(n))"
      ],
      "metadata": {
        "colab": {
          "base_uri": "https://localhost:8080/"
        },
        "id": "nSI8Pe8y5lDm",
        "outputId": "6ca35c02-fa04-4eeb-dffe-fcaac276c6f2"
      },
      "execution_count": 32,
      "outputs": [
        {
          "output_type": "stream",
          "name": "stdout",
          "text": [
            "The number is: 4\n",
            "False\n"
          ]
        }
      ]
    },
    {
      "cell_type": "markdown",
      "metadata": {
        "id": "A8zzzWguvSBE"
      },
      "source": [
        "## 6. Write a Python function that accepts a string and calculate the number of upper case letters and lower case letters. Go to the editor\n"
      ]
    },
    {
      "cell_type": "code",
      "execution_count": null,
      "metadata": {
        "id": "A4IrEM-QvSBF",
        "outputId": "185bc915-0da0-4ad6-b839-a8e5e2615f8c"
      },
      "outputs": [
        {
          "name": "stdout",
          "output_type": "stream",
          "text": [
            "Original String :  Inceptz is One of The BeSt Places TO LEarn DataSciEnce\n",
            "No. of Upper case characters :  13\n",
            "No. of Lower case Characters :  32\n"
          ]
        }
      ],
      "source": []
    },
    {
      "cell_type": "code",
      "source": [
        "def countUpperAndLower(s):\n",
        "  lCount=0\n",
        "  uCount=0\n",
        "  for i in s:\n",
        "    if i>='A' and i<='Z':\n",
        "      uCount=uCount+1\n",
        "    if i>='a' and i<='z':\n",
        "      lCount=lCount+1\n",
        " # print(lCount, uCount)\n",
        "  print(\"Original String : \", s)\n",
        "  print(\"No. of Upper case characters : \", uCount)\n",
        "  print(\"No. of Lower case characters : \", lCount)\n",
        "\n",
        "countUpperAndLower(\"Inceptz is One of The BeSt Places TO LEarn DataSciEnce\")"
      ],
      "metadata": {
        "colab": {
          "base_uri": "https://localhost:8080/"
        },
        "id": "eLtuMzgG7GQd",
        "outputId": "dea4cc49-93b8-4045-bc57-33dc76478425"
      },
      "execution_count": 36,
      "outputs": [
        {
          "output_type": "stream",
          "name": "stdout",
          "text": [
            "Original String :  Inceptz is One of The BeSt Places TO LEarn DataSciEnce\n",
            "No. of Upper case characters :  13\n",
            "No. of Lower case characters :  32\n"
          ]
        }
      ]
    },
    {
      "cell_type": "markdown",
      "metadata": {
        "id": "NxuoUfbqvSBF"
      },
      "source": [
        "## 7. Write a Python program to reverse a string."
      ]
    },
    {
      "cell_type": "code",
      "execution_count": null,
      "metadata": {
        "id": "yS1IcS3gvSBF",
        "outputId": "1db5035a-6813-4226-baba-78daf6c8a54e"
      },
      "outputs": [
        {
          "name": "stdout",
          "output_type": "stream",
          "text": [
            "The original string is: 1234abcd\n",
            "The reversed string: dcba4321\n"
          ]
        }
      ],
      "source": []
    },
    {
      "cell_type": "code",
      "source": [
        "def revString(s):\n",
        "  return s[::-1]\n",
        "\n",
        "s=\"1234abcd\"\n",
        "r=revString(s)\n",
        "\n",
        "print(\"The original string is: \", s)\n",
        "print(\"The reversed string: \", r)"
      ],
      "metadata": {
        "colab": {
          "base_uri": "https://localhost:8080/"
        },
        "id": "rjdvJ-768sct",
        "outputId": "6c1d40bc-4bac-4856-b143-131e2e47a8cb"
      },
      "execution_count": 37,
      "outputs": [
        {
          "output_type": "stream",
          "name": "stdout",
          "text": [
            "The original string is:  1234abcd\n",
            "The reversed string:  dcba4321\n"
          ]
        }
      ]
    },
    {
      "cell_type": "markdown",
      "metadata": {
        "id": "eOYUI64CvSBF"
      },
      "source": [
        "## 8. Write a Python program to find  the greatest common divisor (gcd) of two integers."
      ]
    },
    {
      "cell_type": "code",
      "execution_count": null,
      "metadata": {
        "id": "WgrwcHtjvSBF",
        "outputId": "99ed26a4-fed4-4702-dcb3-313e900d833b"
      },
      "outputs": [
        {
          "name": "stdout",
          "output_type": "stream",
          "text": [
            "The two numbers are: (12, 14)\n",
            "The GCD of the numbers are: 2\n"
          ]
        }
      ],
      "source": []
    },
    {
      "cell_type": "code",
      "execution_count": 40,
      "metadata": {
        "colab": {
          "base_uri": "https://localhost:8080/"
        },
        "id": "xoG6-LKkvSBF",
        "outputId": "16575509-2ea4-432f-ec38-908e75b9fe80"
      },
      "outputs": [
        {
          "output_type": "stream",
          "name": "stdout",
          "text": [
            "The two numbers are: 12 15\n",
            "The GCD of the numbers are: 3\n"
          ]
        }
      ],
      "source": [
        "\n",
        "def findGcd(a,b):\n",
        "  gcd=1\n",
        "  sNum=a\n",
        "  if b<a:\n",
        "    sNum=b\n",
        "  for i in range(1, sNum+1):\n",
        "    if a%i==0 and b%i==0:\n",
        "      gcd=i\n",
        "  return gcd\n",
        "\n",
        "a,b=12,15\n",
        "gcd=findGcd(a,b)\n",
        "print(\"The two numbers are:\", a, b)\n",
        "print(\"The GCD of the numbers are:\", gcd)\n",
        ""
      ]
    }
  ],
  "metadata": {
    "kernelspec": {
      "display_name": "Python 3",
      "language": "python",
      "name": "python3"
    },
    "language_info": {
      "codemirror_mode": {
        "name": "ipython",
        "version": 3
      },
      "file_extension": ".py",
      "mimetype": "text/x-python",
      "name": "python",
      "nbconvert_exporter": "python",
      "pygments_lexer": "ipython3",
      "version": "3.7.0"
    },
    "colab": {
      "provenance": []
    }
  },
  "nbformat": 4,
  "nbformat_minor": 0
}